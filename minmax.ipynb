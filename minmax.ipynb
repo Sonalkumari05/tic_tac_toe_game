{
  "nbformat": 4,
  "nbformat_minor": 0,
  "metadata": {
    "colab": {
      "provenance": [],
      "authorship_tag": "ABX9TyPi+r2vMyNettJWa9vGaJt+",
      "include_colab_link": true
    },
    "kernelspec": {
      "name": "python3",
      "display_name": "Python 3"
    },
    "language_info": {
      "name": "python"
    }
  },
  "cells": [
    {
      "cell_type": "markdown",
      "metadata": {
        "id": "view-in-github",
        "colab_type": "text"
      },
      "source": [
        "<a href=\"https://colab.research.google.com/github/Sonalkumari05/tic_tac_toe_game/blob/main/minmax.ipynb\" target=\"_parent\"><img src=\"https://colab.research.google.com/assets/colab-badge.svg\" alt=\"Open In Colab\"/></a>"
      ]
    },
    {
      "cell_type": "code",
      "source": [
        "import json"
      ],
      "metadata": {
        "id": "Ui0gLDZA3h3_"
      },
      "execution_count": 23,
      "outputs": []
    },
    {
      "cell_type": "code",
      "source": [
        "def is_winner(board, player):\n",
        "    # Check rows, columns, and diagonals\n",
        "    for i in range(3):\n",
        "        # Check each row for a win\n",
        "        if all(cell == player for cell in board[i]):\n",
        "            return True\n",
        "\n",
        "        # Check each column for a win\n",
        "        if all(board[j][i] == player for j in range(3)):\n",
        "            return True\n",
        "\n",
        "    # Check the main diagonal\n",
        "    if all(board[i][i] == player for i in range(3)):\n",
        "        return True\n",
        "\n",
        "    # Check the other diagonal\n",
        "    if all(board[i][2 - i] == player for i in range(3)):\n",
        "        return True\n",
        "\n",
        "    # No winning configuration found\n",
        "    return False\n"
      ],
      "metadata": {
        "id": "widvkuiF3PAx"
      },
      "execution_count": 24,
      "outputs": []
    },
    {
      "cell_type": "code",
      "source": [
        "def is_full(board):\n",
        "    # Check if all cells in the board are not empty\n",
        "    return all(cell != ' ' for row in board for cell in row)\n"
      ],
      "metadata": {
        "id": "OhimyBCj3QCd"
      },
      "execution_count": 25,
      "outputs": []
    },
    {
      "cell_type": "code",
      "source": [
        "def get_empty_cells(board):\n",
        "    # Generate a list of coordinates for empty cells\n",
        "    return [(i, j) for i in range(3) for j in range(3) if board[i][j] == ' ']\n"
      ],
      "metadata": {
        "id": "PN5_mCwr3Zyd"
      },
      "execution_count": 26,
      "outputs": []
    },
    {
      "cell_type": "code",
      "execution_count": 27,
      "metadata": {
        "id": "33sJToAe2zzt"
      },
      "outputs": [],
      "source": [
        "def minimax(board, depth, maximizing_player, minimax_values):\n",
        "    state_key = str(board)\n",
        "\n",
        "    # If the state has already been evaluated, return the stored value\n",
        "    if state_key in minimax_values:\n",
        "        return minimax_values[state_key]\n",
        "\n",
        "    # Check if the current state is a terminal state (win, lose, or draw)\n",
        "    if is_winner(board, 'X'):\n",
        "        return -1\n",
        "    elif is_winner(board, 'O'):\n",
        "        return 1\n",
        "    elif is_full(board):\n",
        "        return 0\n",
        "\n",
        "    # If it's the maximizing player's turn (AI, 'O' player)\n",
        "    if maximizing_player:\n",
        "        max_eval = float('-inf')\n",
        "        for i, j in get_empty_cells(board):\n",
        "            # Simulate making a move\n",
        "            board[i][j] = 'O'\n",
        "            # Recursively call minimax for the next state\n",
        "            eval = minimax(board, depth + 1, False, minimax_values)\n",
        "            # Undo the move\n",
        "            board[i][j] = ' '\n",
        "            # Update the maximum evaluation value\n",
        "            max_eval = max(max_eval, eval)\n",
        "        # Store the evaluated value for the current state\n",
        "        minimax_values[state_key] = max_eval\n",
        "        return max_eval\n",
        "    else:\n",
        "        # If it's the minimizing player's turn (human player, 'X' player)\n",
        "        min_eval = float('inf')\n",
        "        for i, j in get_empty_cells(board):\n",
        "            # Simulate making a move\n",
        "            board[i][j] = 'X'\n",
        "            # Recursively call minimax for the next state\n",
        "            eval = minimax(board, depth + 1, True, minimax_values)\n",
        "            # Undo the move\n",
        "            board[i][j] = ' '\n",
        "            # Update the minimum evaluation value\n",
        "            min_eval = min(min_eval, eval)\n",
        "        # Store the evaluated value for the current state\n",
        "        minimax_values[state_key] = min_eval\n",
        "        return min_eval\n",
        "\n",
        "\n",
        "\n"
      ]
    },
    {
      "cell_type": "code",
      "source": [
        "def save_minimax_values():\n",
        "    # Create the initial empty Tic-Tac-Toe board\n",
        "    initial_board = [[' ' for _ in range(3)] for _ in range(3)]\n",
        "    # Initialize the dictionary to store Mini-Max values\n",
        "    minimax_values = {}\n",
        "\n",
        "    # Run the Mini-Max algorithm to compute values for each state\n",
        "    minimax(initial_board, 0, False, minimax_values)\n",
        "\n",
        "    # Save the computed Mini-Max values to a JSON file\n",
        "    with open('minimax_value.json', 'w') as file:\n",
        "        json.dump(minimax_values, file, indent=2)\n",
        "\n",
        "\n"
      ],
      "metadata": {
        "id": "-EiheUa-28QI"
      },
      "execution_count": 28,
      "outputs": []
    },
    {
      "cell_type": "code",
      "source": [
        "save_minimax_values()"
      ],
      "metadata": {
        "id": "7dgJBTHh2-i3"
      },
      "execution_count": 29,
      "outputs": []
    },
    {
      "cell_type": "code",
      "source": [
        "def print_board(board):\n",
        "    # Iterate through each row in the board\n",
        "    for row in board:\n",
        "        # Print each cell in the row separated by '|', creating a visual representation of a row\n",
        "        print('|'.join(row))\n",
        "        # Print a line of dashes to separate rows for better visual clarity\n",
        "        print('-' * 5)\n"
      ],
      "metadata": {
        "id": "42HJCU_y3BJ4"
      },
      "execution_count": 30,
      "outputs": []
    },
    {
      "cell_type": "code",
      "source": [
        "def load_minimax_values():\n",
        "    # Open the 'minimax_value.json' file in read mode\n",
        "    with open('minimax_value.json', 'r') as file:\n",
        "        # Use json.load to parse the JSON content and return the loaded data\n",
        "        return json.load(file)\n"
      ],
      "metadata": {
        "id": "FMd52s9_3Gsm"
      },
      "execution_count": 31,
      "outputs": []
    },
    {
      "cell_type": "code",
      "source": [
        "def get_best_move(board, minimax_values):\n",
        "    # Get a list of coordinates for empty cells on the board\n",
        "    empty_cells = get_empty_cells(board)\n",
        "    best_moves = []\n",
        "\n",
        "    # If there are no empty cells, return None (no valid moves)\n",
        "    if not empty_cells:\n",
        "        return None\n",
        "\n",
        "    # Iterate through each empty cell\n",
        "    for i, j in empty_cells:\n",
        "        # Simulate making a move\n",
        "        board[i][j] = 'O'\n",
        "        # Get the state key for the current board configuration\n",
        "        state_key = str(board)\n",
        "        # Get the Mini-Max value for the current state\n",
        "        minimax_value = minimax_values.get(state_key, 0)\n",
        "        # Append the move and its associated Mini-Max value to the list\n",
        "        best_moves.append(((i, j), minimax_value))\n",
        "        # Undo the move\n",
        "        board[i][j] = ' '\n",
        "\n",
        "    # Sort the list of moves based on the Mini-Max values in descending order\n",
        "    best_moves.sort(key=lambda x: x[1], reverse=True)\n",
        "\n",
        "    # Return the coordinates of the best move (the one with the highest Mini-Max value)\n",
        "    return best_moves[0][0]\n"
      ],
      "metadata": {
        "id": "ZPTGbVhb4ClZ"
      },
      "execution_count": 32,
      "outputs": []
    },
    {
      "cell_type": "code",
      "source": [
        "def play_game():\n",
        "    # Initialize an empty Tic-Tac-Toe board\n",
        "    board = [[' ' for _ in range(3)] for _ in range(3)]\n",
        "    # Load precomputed Mini-Max values from the file\n",
        "    minimax_values = load_minimax_values()\n",
        "\n",
        "    while True:\n",
        "        # Display the current state of the board\n",
        "        print_board(board)\n",
        "\n",
        "        # Get the human player's move\n",
        "        row = int(input(\"Enter the row (0, 1, or 2): \"))\n",
        "        col = int(input(\"Enter the column (0, 1, or 2): \"))\n",
        "\n",
        "        # Check if the chosen cell is empty\n",
        "        if board[row][col] == ' ':\n",
        "            # Make the human player's move\n",
        "            board[row][col] = 'X'\n",
        "\n",
        "            # Check if the human player wins\n",
        "            if is_winner(board, 'X'):\n",
        "                print_board(board)\n",
        "                print(\"Congratulations! You win!\")\n",
        "                break\n",
        "            # Check if the board is full, resulting in a tie\n",
        "            elif is_full(board):\n",
        "                print_board(board)\n",
        "                print(\"It's a tie!\")\n",
        "                break\n",
        "\n",
        "            # AI's turn\n",
        "            print(\"AI's turn:\")\n",
        "\n",
        "            # Get the AI's best move using the Mini-Max values\n",
        "            ai_move = get_best_move(board, minimax_values)\n",
        "\n",
        "            # Make the AI's move\n",
        "            if ai_move is not None:\n",
        "                print(f\"AI plays at {ai_move}\")\n",
        "                board[ai_move[0]][ai_move[1]] = 'O'\n",
        "\n",
        "                # Check if the AI wins\n",
        "                if is_winner(board, 'O'):\n",
        "                    print_board(board)\n",
        "                    print(\"AI wins! Better luck next time.\")\n",
        "                    break\n",
        "                # Check if the board is full, resulting in a tie\n",
        "                elif is_full(board):\n",
        "                    print_board(board)\n",
        "                    print(\"It's a tie!\")\n",
        "                    break\n",
        "            else:\n",
        "                print(\"It's a tie!\")\n",
        "                break\n",
        "        else:\n",
        "            # Display an error message for an invalid move\n",
        "            print(\"Invalid move. Try again.\")\n",
        "\n",
        "# Run the Tic-Tac-Toe game\n",
        "play_game()\n"
      ],
      "metadata": {
        "colab": {
          "base_uri": "https://localhost:8080/"
        },
        "id": "4Z_vErLb4FKO",
        "outputId": "7f1e4850-c4aa-4e5b-b143-6f6c257a677f"
      },
      "execution_count": 33,
      "outputs": [
        {
          "output_type": "stream",
          "name": "stdout",
          "text": [
            " | | \n",
            "-----\n",
            " | | \n",
            "-----\n",
            " | | \n",
            "-----\n",
            "Enter the row (0, 1, or 2): 1\n",
            "Enter the column (0, 1, or 2): 1\n",
            "AI's turn:\n",
            "AI plays at (0, 0)\n",
            "O| | \n",
            "-----\n",
            " |X| \n",
            "-----\n",
            " | | \n",
            "-----\n",
            "Enter the row (0, 1, or 2): 2\n",
            "Enter the column (0, 1, or 2): 2\n",
            "AI's turn:\n",
            "AI plays at (0, 2)\n",
            "O| |O\n",
            "-----\n",
            " |X| \n",
            "-----\n",
            " | |X\n",
            "-----\n",
            "Enter the row (0, 1, or 2): 1\n",
            "Enter the column (0, 1, or 2): 1\n",
            "Invalid move. Try again.\n",
            "O| |O\n",
            "-----\n",
            " |X| \n",
            "-----\n",
            " | |X\n",
            "-----\n",
            "Enter the row (0, 1, or 2): 1\n",
            "Enter the column (0, 1, or 2): 0\n",
            "AI's turn:\n",
            "AI plays at (0, 1)\n",
            "O|O|O\n",
            "-----\n",
            "X|X| \n",
            "-----\n",
            " | |X\n",
            "-----\n",
            "AI wins! Better luck next time.\n"
          ]
        }
      ]
    }
  ]
}